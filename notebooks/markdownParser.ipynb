{
 "cells": [
  {
   "cell_type": "code",
   "execution_count": null,
   "metadata": {
    "dotnet_interactive": {
     "language": "fsharp"
    }
   },
   "outputs": [
    {
     "data": {
      "text/html": [
       "<div><div></div><div></div><div><strong>Installed Packages</strong><ul><li><span>Bolero, 0.17.25</span></li><li><span>FParsec, 1.1.1</span></li></ul></div></div>"
      ]
     },
     "metadata": {},
     "output_type": "display_data"
    }
   ],
   "source": [
    "#r \"nuget: FParsec\"\n",
    "#r \"nuget: Bolero\""
   ]
  },
  {
   "cell_type": "code",
   "execution_count": null,
   "metadata": {
    "dotnet_interactive": {
     "language": "fsharp"
    }
   },
   "outputs": [],
   "source": [
    "type Markdown = Entity list\n",
    "and Entity = Text of string | Bold of Markdown | Italic of Markdown"
   ]
  },
  {
   "cell_type": "code",
   "execution_count": null,
   "metadata": {
    "dotnet_interactive": {
     "language": "fsharp"
    }
   },
   "outputs": [
    {
     "name": "stdout",
     "output_type": "stream",
     "text": [
      "<fun:op_BarGreaterGreater@143> -> FParsec.CharStream`1[Microsoft.FSharp.Core.Unit] -> FParsec.Reply`1[FSI_0005+Entity]<fun:op_BarGreaterGreater@143> -> FParsec.CharStream`1[Microsoft.FSharp.Core.Unit] -> FParsec.Reply`1[FSI_0005+Entity]<fun:op_BarGreaterGreater@143> -> FParsec.CharStream`1[Microsoft.FSharp.Core.Unit] -> FParsec.Reply`1[FSI_0005+Entity]<fun:op_BarGreaterGreater@143> -> FParsec.CharStream`1[Microsoft.FSharp.Core.Unit] -> FParsec.Reply`1[FSI_0005+Entity]<fun:op_BarGreaterGreater@143> -> FParsec.CharStream`1[Microsoft.FSharp.Core.Unit] -> FParsec.Reply`1[FSI_0005+Entity]<fun:op_BarGreaterGreater@143> -> FParsec.CharStream`1[Microsoft.FSharp.Core.Unit] -> FParsec.Reply`1[FSI_0005+Entity]<fun:op_BarGreaterGreater@143> -> FParsec.CharStream`1[Microsoft.FSharp.Core.Unit] -> FParsec.Reply`1[FSI_0005+Entity]<fun:op_BarGreaterGreater@143> -> FParsec.CharStream`1[Microsoft.FSharp.Core.Unit] -> FParsec.Reply`1[FSI_0005+Entity]<fun:op_BarGreaterGreater@143> -> FParsec.CharStream`1[Microsoft.FSharp.Core.Unit] -> FParsec.Reply`1[FSI_0005+Entity]<fun:op_BarGreaterGreater@143> -> FParsec.CharStream`1[Microsoft.FSharp.Core.Unit] -> FParsec.Reply`1[FSI_0005+Entity]<fun:op_BarGreaterGreater@143> -> FParsec.CharStream`1[Microsoft.FSharp.Core.Unit] -> FParsec.Reply`1[FSI_0005+Entity]<fun:op_BarGreaterGreater@143> -> FParsec.CharStream`1[Microsoft.FSharp.Core.Unit] -> FParsec.Reply`1[FSI_0005+Entity]<fun:op_BarGreaterGreater@143> -> FParsec.CharStream`1[Microsoft.FSharp.Core.Unit] -> FParsec.Reply`1[FSI_0005+Entity]<fun:op_BarGreaterGreater@143> -> FParsec.CharStream`1[Microsoft.FSharp.Core.Unit] -> FParsec.Reply`1[FSI_0005+Entity]<fun:op_BarGreaterGreater@143> -> FParsec.CharStream`1[Microsoft.FSharp.Core.Unit] -> FParsec.Reply`1[FSI_0005+Entity]<fun:op_BarGreaterGreater@143> -> FParsec.CharStream`1[Microsoft.FSharp.Core.Unit] -> FParsec.Reply`1[FSI_0005+Entity]<fun:op_BarGreaterGreater@143> -> FParsec.CharStream`1[Microsoft.FSharp.Core.Unit] -> FParsec.Reply`1[FSI_0005+Entity]<fun:op_BarGreaterGreater@143> -> FParsec.CharStream`1[Microsoft.FSharp.Core.Unit] -> FParsec.Reply`1[FSI_0005+Entity]<fun:op_BarGreaterGreater@143> -> FParsec.CharStream`1[Microsoft.FSharp.Core.Unit] -> FParsec.Reply`1[FSI_0005+Entity]<fun:op_BarGreaterGreater@143> -> FParsec.CharStream`1[Microsoft.FSharp.Core.Unit] -> FParsec.Reply`1[FSI_0005+Entity]<fun:op_BarGreaterGreater@143> -> FParsec.CharStream`1[Microsoft.FSharp.Core.Unit] -> FParsec.Reply`1[FSI_0005+Entity]<fun:op_BarGreaterGreater@143> -> FParsec.CharStream`1[Microsoft.FSharp.Core.Unit] -> FParsec.Reply`1[FSI_0005+Entity]<fun:op_BarGreaterGreater@143> -> FParsec.CharStream`1[Microsoft.FSharp.Core.Unit] -> FParsec.Reply`1[FSI_0005+Entity]<fun:op_BarGreaterGreater@143> -> FParsec.CharStream`1[Microsoft.FSharp.Core.Unit] -> FParsec.Reply`1[FSI_0005+Entity]<fun:op_BarGreaterGreater@143> -> FParsec.CharStream`1[Microsoft.FSharp.Core.Unit] -> FParsec.Reply`1[FSI_0005+Entity]<fun:op_BarGreaterGreater@143> -> FParsec.CharStream`1[Microsoft.FSharp.Core.Unit] -> FParsec.Reply`1[FSI_0005+Entity]<fun:op_BarGreaterGreater@143> -> FParsec.CharStream`1[Microsoft.FSharp.Core.Unit] -> FParsec.Reply`1[FSI_0005+Entity]<fun:op_BarGreaterGreater@143> -> FParsec.CharStream`1[Microsoft.FSharp.Core.Unit] -> FParsec.Reply`1[FSI_0005+Entity]<fun:op_BarGreaterGreater@143> -> FParsec.CharStream`1[Microsoft.FSharp.Core.Unit] -> FParsec.Reply`1[FSI_0005+Entity]<fun:op_BarGreaterGreater@143> -> FParsec.CharStream`1[Microsoft.FSharp.Core.Unit] -> FParsec.Reply`1[FSI_0005+Entity]<fun:op_BarGreaterGreater@143> -> FParsec.CharStream`1[Microsoft.FSharp.Core.Unit] -> FParsec.Reply`1[FSI_0005+Entity]<fun:op_BarGreaterGreater@143> -> FParsec.CharStream`1[Microsoft.FSharp.Core.Unit] -> FParsec.Reply`1[FSI_0005+Entity]<fun:op_BarGreaterGreater@143> -> FParsec.CharStream`1[Microsoft.FSharp.Core.Unit] -> FParsec.Reply`1[FSI_0005+Entity]<fun:op_BarGreaterGreater@143> -> FParsec.CharStream`1[Microsoft.FSharp.Core.Unit] -> FParsec.Reply`1[FSI_0005+Entity]<fun:op_BarGreaterGreater@143> -> FParsec.CharStream`1[Microsoft.FSharp.Core.Unit] -> FParsec.Reply`1[FSI_0005+Entity]<fun:op_BarGreaterGreater@143> -> FParsec.CharStream`1[Microsoft.FSharp.Core.Unit] -> FParsec.Reply`1[FSI_0005+Entity]<fun:op_BarGreaterGreater@143> -> FParsec.CharStream`1[Microsoft.FSharp.Core.Unit] -> FParsec.Reply`1[FSI_0005+Entity]<fun:op_BarGreaterGreater@143> -> FParsec.CharStream`1[Microsoft.FSharp.Core.Unit] -> FParsec.Reply`1[FSI_0005+Entity]<fun:op_BarGreaterGreater@143> -> FParsec.CharStream`1[Microsoft.FSharp.Core.Unit] -> FParsec.Reply`1[FSI_0005+Entity]"
     ]
    },
    {
     "data": {
      "text/plain": [
       "[Text \"*ifjs*disdj\"]"
      ]
     },
     "metadata": {},
     "output_type": "display_data"
    }
   ],
   "source": [
    "open FParsec\n",
    "\n",
    "let l tag x =\n",
    "    printf \"%s: %+A\" tag x\n",
    "    x\n",
    "\n",
    "let bp (p: Parser<_,_>) stream =\n",
    "    p stream\n",
    "\n",
    "let entity, entityRef = createParserForwardedToRef()\n",
    "let markdown: Parser<Markdown,_> = many1 entity\n",
    "\n",
    "let mbw char =\n",
    "    let c = pstring char\n",
    "    between c c markdown\n",
    "\n",
    "let bold = mbw \"*\" |>> Bold\n",
    "\n",
    "let text =\n",
    "    notFollowedBy\n",
    "    <| choice [ log bold ]\n",
    "    >>. anyChar\n",
    "    |> many1Chars\n",
    "    |>> Entity.Text\n",
    "\n",
    "entityRef.Value <- choice [ text; bold ]\n",
    "\n",
    "let test p str =\n",
    "    match run p str with\n",
    "    | Success(result, _, _)   -> $\"%+A{result}\"\n",
    "    | Failure(errorMsg, _, _) -> failwith errorMsg\n",
    "\n",
    "test markdown \"*ifjs*disdj\""
   ]
  },
  {
   "cell_type": "code",
   "execution_count": null,
   "metadata": {
    "dotnet_interactive": {
     "language": "fsharp"
    }
   },
   "outputs": [
    {
     "data": {
      "text/plain": [
       "[Text \"aadsvf\"; Text \"*\"; Text \"daea\"; ... ] (Ln: 1, Col: 16)"
      ]
     },
     "metadata": {},
     "output_type": "display_data"
    }
   ],
   "source": [
    "let p =\n",
    "    pstring \"*\"\n",
    "    |> notFollowedBy\n",
    "    >>. anyChar\n",
    "    |> many1Chars\n",
    "    |>> Entity.Text\n",
    "    <|> (pstring \"*\" |>> Entity.Text)\n",
    "    |> many1\n",
    "    // |> test\n",
    "match run p \"aadsvf*daea*aaa\" with\n",
    "| Success(result, _, p)   -> $\"{result} {p}\"\n",
    "| Failure(errorMsg, _, _) -> failwith errorMsg\n"
   ]
  }
 ],
 "metadata": {
  "kernelspec": {
   "display_name": ".NET (C#)",
   "language": "C#",
   "name": ".net-csharp"
  },
  "language_info": {
   "file_extension": ".cs",
   "mimetype": "text/x-csharp",
   "name": "C#",
   "pygments_lexer": "csharp",
   "version": "9.0"
  },
  "orig_nbformat": 4
 },
 "nbformat": 4,
 "nbformat_minor": 2
}
