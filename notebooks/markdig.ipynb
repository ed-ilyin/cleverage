{
 "cells": [
  {
   "cell_type": "code",
   "execution_count": null,
   "metadata": {
    "dotnet_interactive": {
     "language": "csharp"
    }
   },
   "outputs": [],
   "source": [
    "using static Microsoft.DotNet.Interactive.Formatting.PocketViewTags;"
   ]
  },
  {
   "cell_type": "code",
   "execution_count": null,
   "metadata": {
    "dotnet_interactive": {
     "language": "csharp"
    }
   },
   "outputs": [
    {
     "data": {
      "text/html": [
       "<span><img src=\"https://en.wikipedia.org/favicon.ico\" style=\"height:1.5em\"></img><a href=\"https://en.wikipedia.org\" target=\"blank\" style=\"color:green\"><b>Wikipedia</b></a></span>"
      ]
     },
     "metadata": {},
     "output_type": "display_data"
    }
   ],
   "source": [
    "display(\n",
    "    span(\n",
    "        img[src:\"https://en.wikipedia.org/favicon.ico\", style:\"height:1.5em\"],\n",
    "        a[href: @\"https://en.wikipedia.org\", target: \"blank\", style:\"color:green\"](b(\"Wikipedia\"))\n",
    "    )\n",
    ");"
   ]
  },
  {
   "cell_type": "code",
   "execution_count": null,
   "metadata": {
    "dotnet_interactive": {
     "language": "fsharp"
    }
   },
   "outputs": [
    {
     "name": "stderr",
     "output_type": "stream",
     "text": [
      "Stopped due to error\n"
     ]
    },
    {
     "ename": "Error",
     "evalue": "input.fsx (3,24)-(3,29) typecheck error Type constraint mismatch. The type \n    'obj'    \nis not compatible with type\n    'PocketView'    \n",
     "output_type": "error",
     "traceback": [
      "input.fsx (3,24)-(3,29) typecheck error Type constraint mismatch. The type \n",
      "    'obj'    \n",
      "is not compatible with type\n",
      "    'PocketView'    \n"
     ]
    }
   ],
   "source": [
    "open Microsoft.DotNet.Interactive.Formatting\n",
    "type h = Microsoft.DotNet.Interactive.Formatting.PocketViewTags\n",
    "let div : PocketView = h.div :> PocketView\n",
    "// display(\n",
    "//     h.b(\"Wikipedia\")\n",
    "// )\n"
   ]
  },
  {
   "cell_type": "code",
   "execution_count": null,
   "metadata": {
    "dotnet_interactive": {
     "language": "fsharp"
    }
   },
   "outputs": [],
   "source": []
  },
  {
   "cell_type": "code",
   "execution_count": null,
   "metadata": {
    "dotnet_interactive": {
     "language": "fsharp"
    }
   },
   "outputs": [
    {
     "data": {
      "text/plain": [
       "<center></center>"
      ]
     },
     "metadata": {},
     "output_type": "display_data"
    }
   ],
   "source": [
    "open Microsoft.DotNet.Interactive.Formatting\n",
    "typeof<PocketViewTags>.GetProperties() |> Array.map (fun x -> x.Name)\n",
    "PocketViewTags.center.ToString()"
   ]
  }
 ],
 "metadata": {
  "kernelspec": {
   "display_name": ".NET (F#)",
   "language": "F#",
   "name": ".net-fsharp"
  },
  "language_info": {
   "file_extension": ".fs",
   "mimetype": "text/x-fsharp",
   "name": "C#",
   "pygments_lexer": "fsharp",
   "version": "4.5"
  }
 },
 "nbformat": 4,
 "nbformat_minor": 4
}
