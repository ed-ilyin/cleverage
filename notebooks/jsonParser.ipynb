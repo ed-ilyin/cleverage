{
 "cells": [
  {
   "cell_type": "code",
   "execution_count": null,
   "metadata": {
    "dotnet_interactive": {
     "language": "fsharp"
    }
   },
   "outputs": [
    {
     "data": {
      "text/html": [
       "<div><div></div><div></div><div><strong>Installed Packages</strong><ul><li><span>Bolero, 0.17.25</span></li><li><span>FParsec, 1.1.1</span></li></ul></div></div>"
      ]
     },
     "metadata": {},
     "output_type": "display_data"
    }
   ],
   "source": [
    "#r \"nuget: FParsec\"\n",
    "#r \"nuget: Bolero\""
   ]
  },
  {
   "cell_type": "code",
   "execution_count": null,
   "metadata": {
    "dotnet_interactive": {
     "language": "fsharp"
    }
   },
   "outputs": [],
   "source": [
    "[<StructuredFormatDisplay(\"{StructuredFormatDisplay}\")>]\n",
    "type Json = JString of string\n",
    "          | JNumber of float\n",
    "          | JBool   of bool\n",
    "          | JNull\n",
    "          | JList   of Json list\n",
    "          | JObject of Map<string, Json>\n",
    "         with\n",
    "            member private t.StructuredFormatDisplay =\n",
    "                match t with\n",
    "                | JString s -> box (\"\\\"\" + s + \"\\\"\")\n",
    "                | JNumber f -> box f\n",
    "                | JBool   b -> box b\n",
    "                | JNull     -> box \"null\"\n",
    "                | JList   l -> box l\n",
    "                | JObject m -> Map.toList m :> obj"
   ]
  },
  {
   "cell_type": "code",
   "execution_count": null,
   "metadata": {
    "dotnet_interactive": {
     "language": "fsharp"
    }
   },
   "outputs": [],
   "source": [
    "open FParsec\n",
    "\n",
    "let jnull  = stringReturn \"null\" JNull\n",
    "let jtrue  = stringReturn \"true\"  (JBool true)\n",
    "let jfalse = stringReturn \"false\" (JBool false)\n",
    "\n",
    "let jnumber = pfloat |>> JNumber // pfloat will accept a little more than specified by JSON\n",
    "                                 // as valid numbers (such as NaN or Infinity), but that makes\n",
    "                                 // it only more robust\n",
    "\n",
    "let str s = pstring s\n",
    "\n",
    "let stringLiteral =\n",
    "    let escape =  anyOf \"\\\"\\\\/bfnrt\"\n",
    "                  |>> function\n",
    "                      | 'b' -> \"\\b\"\n",
    "                      | 'f' -> \"\\u000C\"\n",
    "                      | 'n' -> \"\\n\"\n",
    "                      | 'r' -> \"\\r\"\n",
    "                      | 't' -> \"\\t\"\n",
    "                      | c   -> string c // every other char is mapped to itself\n",
    "\n",
    "    let unicodeEscape =\n",
    "        /// converts a hex char ([0-9a-fA-F]) to its integer number (0-15)\n",
    "        let hex2int c = (int c &&& 15) + (int c >>> 6)*9\n",
    "\n",
    "        str \"u\" >>. pipe4 hex hex hex hex (fun h3 h2 h1 h0 ->\n",
    "            (hex2int h3)*4096 + (hex2int h2)*256 + (hex2int h1)*16 + hex2int h0\n",
    "            |> char |> string\n",
    "        )\n",
    "\n",
    "    let escapedCharSnippet = str \"\\\\\" >>. (escape <|> unicodeEscape)\n",
    "    let normalCharSnippet  = manySatisfy (fun c -> c <> '\"' && c <> '\\\\')\n",
    "\n",
    "    between (str \"\\\"\") (str \"\\\"\")\n",
    "            (stringsSepBy normalCharSnippet escapedCharSnippet)\n",
    "\n",
    "let jstring = stringLiteral |>> JString\n",
    "\n",
    "// jvalue, jlist and jobject are three mutually recursive grammar productions.\n",
    "// In order to break the cyclic dependency, we make jvalue a parser that\n",
    "// forwards all calls to a parser in a reference cell.\n",
    "let jvalue, jvalueRef = createParserForwardedToRef() // initially jvalueRef holds a reference to a dummy parser\n",
    "\n",
    "let ws = spaces // skips any whitespace\n",
    "\n",
    "let listBetweenStrings sOpen sClose pElement f =\n",
    "    between (str sOpen) (str sClose)\n",
    "            (ws >>. sepBy (pElement .>> ws) (str \",\" .>> ws) |>> f)\n",
    "\n",
    "let keyValue = tuple2 stringLiteral (ws >>. str \":\" >>. ws >>. jvalue)\n",
    "\n",
    "let jlist   = listBetweenStrings \"[\" \"]\" jvalue JList\n",
    "let jobject = listBetweenStrings \"{\" \"}\" keyValue (Map.ofList >> JObject)\n",
    "\n",
    "do jvalueRef := choice [jobject\n",
    "                        jlist\n",
    "                        jstring\n",
    "                        jnumber\n",
    "                        jtrue\n",
    "                        jfalse\n",
    "                        jnull]\n",
    "\n",
    "let json = ws >>. jvalue .>> ws .>> eof\n",
    "\n",
    "let parseJsonString str = run json str\n",
    "\n",
    "// UTF8 is the default, but it will detect UTF16 or UTF32 byte-order marks automatically\n",
    "let parseJsonFile fileName encoding =\n",
    "    runParserOnFile json () fileName encoding\n",
    "\n",
    "let parseJsonStream stream encoding =\n",
    "    runParserOnStream json () \"\" stream System.Text.Encoding.UTF8"
   ]
  },
  {
   "cell_type": "code",
   "execution_count": null,
   "metadata": {
    "dotnet_interactive": {
     "language": "fsharp"
    }
   },
   "outputs": [
    {
     "data": {
      "text/html": [
       "<table><thead><tr><th>Item</th></tr></thead><tbody><tr><td><div class=\"dni-plaintext\">[ { [Event, [(&quot;Anim&quot;, null); (&quot;Audio&quot;, null); (&quot;Message&quot;, null); (&quot;MsgID2Del&quot;, null);\n",
       " (&quot;Photo&quot;, null); (&quot;Stick&quot;, null); (&quot;Video&quot;, null); (&quot;VideoNote&quot;, ...);\n",
       " (&quot;Voice&quot;, null)]]: Key: Event, Value: { [(&quot;Anim&quot;, null); (&quot;Audio&quot;, null); (&quot;Message&quot;, null); (&quot;MsgID2Del&quot;, null);\n",
       " (&quot;Photo&quot;, null); (&quot;Stick&quot;, null); (&quot;Video&quot;, null); (&quot;VideoNote&quot;, ...);\n",
       " (&quot;Voice&quot;, null)]: Item: [ { [Anim, null]: Key: Anim, Value: null }, { [Audio, null]: Key: Audio, Value: null }, { [Message, null]: Key: Message, Value: null }, { [MsgID2Del, null]: Key: MsgID2Del, Value: null }, { [Photo, null]: Key: Photo, Value: null }, { [Stick, null]: Key: Stick, Value: null }, { [Video, null]: Key: Video, Value: null }, { [VideoNote, [(&quot;ChannelUsername&quot;, &quot;&quot;); (&quot;ChatID&quot;, ...); (&quot;DisableNotification&quot;, ...);\n",
       " (&quot;Duration&quot;, ...); (&quot;File&quot;, null);\n",
       " (&quot;FileID&quot;,\n",
       "  &quot;DQACAgIAAxkBAAEiTzJhvK2LAAFBO36Hc5O7OiHXFp8vg_gAAjMVAAKpj-lJj-S8EHfK2NEjBA&quot;);\n",
       " (&quot;FileSize&quot;, ...); (&quot;Length&quot;, ...); (&quot;MimeType&quot;, &quot;&quot;); (&quot;ReplyMarkup&quot;, null);\n",
       " (&quot;ReplyToMessageID&quot;, ...); (&quot;UseExisting&quot;, ...)]]: Key: VideoNote, Value: { [(&quot;ChannelUsername&quot;, &quot;&quot;); (&quot;ChatID&quot;, ...); (&quot;DisableNotification&quot;, ...);\n",
       " (&quot;Duration&quot;, ...); (&quot;File&quot;, null);\n",
       " (&quot;FileID&quot;,\n",
       "  &quot;DQACAgIAAxkBAAEiTzJhvK2LAAFBO36Hc5O7OiHXFp8vg_gAAjMVAAKpj-lJj-S8EHfK2NEjBA&quot;);\n",
       " (&quot;FileSize&quot;, ...); (&quot;Length&quot;, ...); (&quot;MimeType&quot;, &quot;&quot;); (&quot;ReplyMarkup&quot;, null);\n",
       " (&quot;ReplyToMessageID&quot;, ...); (&quot;UseExisting&quot;, ...)]: Item: [ [ChannelUsername, &quot;&quot;], [ChatID, 215296975.0], [DisableNotification, false], [Duration, 0.0], [File, null], [FileID, &quot;DQACAgIAAxkBAAEiTzJhvK2LAAFBO36Hc5O7OiHXFp8vg_gAAjMVAAKpj-lJj-S8EHfK2NEjBA&quot;], [FileSize, 0.0], [Length, 384.0], [MimeType, &quot;&quot;], [ReplyMarkup, null], [ReplyToMessageID, 0.0], [UseExisting, true] ] } }, { [Voice, null]: Key: Voice, Value: null } ] } }, { [MessageID, 2248533.0]: Key: MessageID, Value: { 2248533.0: Item: 2248533 } }, { [SessionName, &quot;Magenta Solution&quot;]: Key: SessionName, Value: { &quot;Magenta Solution&quot;: Item: Magenta Solution } } ]</div></td></tr></tbody></table>"
      ]
     },
     "metadata": {},
     "output_type": "display_data"
    }
   ],
   "source": [
    "open FParsec.CharParsers\n",
    "\n",
    "let result = parseJsonFile \"test.json\" System.Text.Encoding.UTF8\n",
    "// for the moment we just print out the AST\n",
    "match result with\n",
    "| Success (v, _, _) -> v\n",
    "| Failure (msg, err, _) -> failwith msg"
   ]
  }
 ],
 "metadata": {
  "kernelspec": {
   "display_name": ".NET (C#)",
   "language": "C#",
   "name": ".net-csharp"
  },
  "language_info": {
   "file_extension": ".cs",
   "mimetype": "text/x-csharp",
   "name": "C#",
   "pygments_lexer": "csharp",
   "version": "9.0"
  },
  "orig_nbformat": 4
 },
 "nbformat": 4,
 "nbformat_minor": 2
}
