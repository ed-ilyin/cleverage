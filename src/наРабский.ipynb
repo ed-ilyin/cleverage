{
 "cells": [
  {
   "cell_type": "code",
   "execution_count": null,
   "metadata": {
    "dotnet_interactive": {
     "language": "fsharp"
    }
   },
   "outputs": [],
   "source": [
    "let rnd = Random ()"
   ]
  },
  {
   "cell_type": "code",
   "execution_count": null,
   "metadata": {
    "dotnet_interactive": {
     "language": "fsharp"
    }
   },
   "outputs": [],
   "source": [
    "let shuffle sequence =\n",
    "    Seq.map (fun element -> element, rnd.Next ()) sequence\n",
    "    |> Seq.sortBy snd\n",
    "    |> Seq.map fst\n",
    "\n",
    "let шифр (слово: string) =\n",
    "    слово.ToCharArray ()\n",
    "    |> shuffle\n",
    "    |> String.Concat\n",
    "    \n",
    "let наРабский перемешиваемСлова (фраза: string) =\n",
    "    фраза.Split ' '\n",
    "    |> перемешиваемСлова\n",
    "    |> Seq.map шифр\n",
    "    |> Seq.reduce (sprintf \"%s %s\")"
   ]
  },
  {
   "cell_type": "code",
   "execution_count": null,
   "metadata": {
    "dotnet_interactive": {
     "language": "fsharp"
    }
   },
   "outputs": [],
   "source": [
    "let самоеДлинноеИмя = 0\n",
    "\n",
    "let rec shuffleBodyLoop body = function\n",
    "    | [] -> body\n",
    "    | [ последняя ] -> (shuffle body |> List.ofSeq) @ [ последняя ]\n",
    "    | next :: tail -> shuffleBodyLoop (body @ [ next ]) tail\n",
    "\n",
    "let shuffleBody sequence =\n",
    "    match List.ofSeq sequence with\n",
    "    | [] -> []\n",
    "    | tooShort when List.length tooShort <= самоеДлинноеИмя -> [ '.' ]\n",
    "    | первая :: хвост -> первая :: shuffleBodyLoop [] хвост\n",
    "\n",
    "let межрабскийШифр (слово: string) =\n",
    "    слово.ToCharArray ()\n",
    "    |> shuffleBody\n",
    "    |> String.Concat\n",
    "\n",
    "let наМежрабский перемешиваемСлова (фраза: string) =\n",
    "    фраза.Split ' '\n",
    "    |> перемешиваемСлова\n",
    "    |> Seq.map межрабскийШифр\n",
    "    |> Seq.reduce (sprintf \"%s %s\")"
   ]
  },
  {
   "cell_type": "code",
   "execution_count": null,
   "metadata": {
    "dotnet_interactive": {
     "language": "fsharp"
    }
   },
   "outputs": [],
   "source": [
    "let shuffle sequence =\n",
    "    Seq.map (fun element -> rnd.Next (), element) sequence\n",
    "    |> Seq.sort\n",
    "    |> Seq.map snd\n",
    "\n",
    "let полныйШаффл (фраза: string) =\n",
    "    фраза.ToCharArray () |> shuffle |> String.Concat"
   ]
  },
  {
   "cell_type": "code",
   "execution_count": null,
   "metadata": {
    "dotnet_interactive": {
     "language": "fsharp"
    }
   },
   "outputs": [
    {
     "data": {
      "text/html": [
       "<table><thead><tr><th><i>index</i></th><th>value</th></tr></thead><tbody><tr><td>0</td><td>нО апесчол адв араз лцои ов мявре зщаиты - оэт ен кка хмжы он шетбер в хет стаехм мяпро двион итпсмеоерр щее азр</td></tr><tr><td>1</td><td>я ежу саза.вяклыс А цпрелшеи идтхо в чкиул вгедас неонсбоо с плхойо юльро еще есавж ПЕИЗДЦ рига гдако он везрал кзиуаМр</td></tr><tr><td>2</td><td>гое реупс бьопстсоонс еьсдртпаи ан шиу но тоэ еатдел куча яргшуккле тпирво мняе авдит кмволо рввоопто чот я ьитлрпе</td></tr><tr><td>3</td><td>риМкуза</td></tr></tbody></table>"
      ]
     },
     "metadata": {},
     "output_type": "display_data"
    }
   ],
   "source": [
    "List.map (наРабский id) [\n",
    "    \"Он почесал два раза лицо во время защиты - это не как жмых он брешет в тех местах прямо видно пересмотри еще раз\"\n",
    "    \"я уже высказался. А пришелец ходит в личку всегда особенно с плохой ролью еще свежа ПИЗДЕЦ игра когда он развел Маркизу\"\n",
    "    \"его супер способность приседать на уши он это делает куча кругляшек против меня давит колвом повторов что я рептиль\"\n",
    "    \"Маркизу\"\n",
    "]"
   ]
  },
  {
   "cell_type": "code",
   "execution_count": null,
   "metadata": {
    "dotnet_interactive": {
     "language": "fsharp"
    }
   },
   "outputs": [],
   "source": [
    "let усложняем = function\n",
    "    | 0 -> id\n",
    "    | 1 -> наМежрабский id\n",
    "    | 2 -> наМежрабский shuffle\n",
    "    | 3 -> наРабский id\n",
    "    | 4 -> наРабский shuffle\n",
    "    | 5 -> полныйШаффл\n",
    "    | _ -> fun _ -> \"...\"\n"
   ]
  },
  {
   "cell_type": "code",
   "execution_count": null,
   "metadata": {
    "dotnet_interactive": {
     "language": "fsharp"
    }
   },
   "outputs": [],
   "source": [
    "let поСложностям фраза =\n",
    "    List.init 7 (fun сложность -> усложняем сложность фраза)"
   ]
  },
  {
   "cell_type": "code",
   "execution_count": null,
   "metadata": {
    "dotnet_interactive": {
     "language": "fsharp"
    }
   },
   "outputs": [
    {
     "data": {
      "text/html": [
       "<table><thead><tr><th><i>index</i></th><th>value</th></tr></thead><tbody><tr><td>0</td><td>Давай Маркизу</td></tr><tr><td>1</td><td>Давай Мкзирау</td></tr><tr><td>2</td><td>Давай Мизркау</td></tr><tr><td>3</td><td>ваДйа изМкрау</td></tr><tr><td>4</td><td>вДаай изМурак</td></tr><tr><td>5</td><td>Марвзак йиауД</td></tr><tr><td>6</td><td>...</td></tr></tbody></table>"
      ]
     },
     "metadata": {},
     "output_type": "display_data"
    }
   ],
   "source": [
    "поСложностям \"Давай Маркизу\""
   ]
  }
 ],
 "metadata": {
  "interpreter": {
   "hash": "aee8b7b246df8f9039afb4144a1f6fd8d2ca17a180786b69acc140d282b71a49"
  },
  "kernelspec": {
   "display_name": ".NET (C#)",
   "language": "C#",
   "name": ".net-csharp"
  },
  "language_info": {
   "file_extension": ".cs",
   "mimetype": "text/x-csharp",
   "name": "C#",
   "pygments_lexer": "csharp",
   "version": "9.0"
  }
 },
 "nbformat": 4,
 "nbformat_minor": 2
}
